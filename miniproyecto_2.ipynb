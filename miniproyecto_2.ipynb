{
  "nbformat": 4,
  "nbformat_minor": 0,
  "metadata": {
    "colab": {
      "name": "miniproyecto_2.ipynb",
      "provenance": []
    },
    "kernelspec": {
      "name": "python3",
      "display_name": "Python 3"
    }
  },
  "cells": [
    {
      "cell_type": "code",
      "metadata": {
        "id": "yZvk7KgqOtyO"
      },
      "source": [
        "%matplotlib inline\n",
        "import os\n",
        "import numpy as np\n",
        "import scipy.io as sio\n",
        "import scipy as sp\n",
        "import pickle \n",
        "import pandas as pd\n",
        "import matplotlib.pyplot as plt"
      ],
      "execution_count": null,
      "outputs": []
    },
    {
      "cell_type": "code",
      "metadata": {
        "id": "sD3-9xBvPBx2"
      },
      "source": [
        "data = pd.read_pickle('feats.pkl')\n",
        "X = data.drop(columns=['labels']).to_numpy()\n",
        "labels = data['labels'].to_numpy()"
      ],
      "execution_count": null,
      "outputs": []
    },
    {
      "cell_type": "markdown",
      "metadata": {
        "id": "g-4lUrZfUfGP"
      },
      "source": [
        "## Se parte la matriz de características en entrenamiento y test"
      ]
    },
    {
      "cell_type": "code",
      "metadata": {
        "id": "KYtoyVaMUebw"
      },
      "source": [
        "from sklearn.model_selection import train_test_split, GridSearchCV\n",
        "\n",
        "X_train, X_test, y_train, y_test = train_test_split(X,labels,test_size = 0.3, random_state=50) "
      ],
      "execution_count": null,
      "outputs": []
    },
    {
      "cell_type": "markdown",
      "metadata": {
        "id": "DMh2Ya39R7Ld"
      },
      "source": [
        "## Se normalizan las características"
      ]
    },
    {
      "cell_type": "code",
      "metadata": {
        "id": "I651uzieR-YN"
      },
      "source": [
        "#estandarización de la matriz de entrenamiento\n",
        "mXtrain = np.mean(X_train,axis= 0)\n",
        "sXtrain = np.std(X_train,axis= 0)    \n",
        "X_train_norm = (X_train-mXtrain)/sXtrain\n",
        "\n",
        "#estandarización de la matriz de test\n",
        "X_test_norm = (X_test-mXtrain)/sXtrain"
      ],
      "execution_count": null,
      "outputs": []
    },
    {
      "cell_type": "markdown",
      "metadata": {
        "id": "qLoe0ynBV4Y2"
      },
      "source": [
        "## Se entrega el modelo y se transformanlos datos para diferentes configuraciones de q"
      ]
    },
    {
      "cell_type": "code",
      "metadata": {
        "id": "oVIoQFRzPCvG"
      },
      "source": [
        "from sklearn.decomposition import PCA\n",
        "Q = np.arange(1, X_train_norm.shape[1], 2)\n",
        "Q=np.append(Q,213)\n",
        "\n",
        "pca_train = []\n",
        "pca_test = []\n",
        "\n",
        "for q in Q: \n",
        "  pca = PCA(n_components=q)\n",
        "  X_train_pca = pca.fit_transform(X_train_norm)\n",
        "  X_test_pca = pca.transform(X_test_norm)\n",
        "  pca_train.append(X_train_pca)\n",
        "  pca_test.append(X_test_pca)\n",
        "\n",
        "#pca_train.append(X_train_norm)\n",
        "#pca_test.append(X_test_norm)\n"
      ],
      "execution_count": null,
      "outputs": []
    },
    {
      "cell_type": "markdown",
      "metadata": {
        "id": "-MQ-5vT1Eevz"
      },
      "source": [
        "## Se entrena el clasificador bayesiano"
      ]
    },
    {
      "cell_type": "code",
      "metadata": {
        "id": "qrZECGv1T4HV",
        "colab": {
          "base_uri": "https://localhost:8080/",
          "height": 283
        },
        "outputId": "e86bcce7-225d-4636-e9f9-97bbff9fe1f3"
      },
      "source": [
        "from sklearn.naive_bayes import GaussianNB\n",
        "from sklearn import svm\n",
        "\n",
        "Acc=[]\n",
        "for i in range(len(pca_train)): \n",
        "  # Se crea el modelo (ej. clasificador)\n",
        "  clf = GaussianNB()\n",
        "  # Se entrena el modelo\n",
        "  clf.fit(pca_train[i],y_train)\n",
        "  # Se realiza una predicción\n",
        "  Acc.append(accuracy_score(y_test,clf.predict(pca_test[i])))\n",
        "\n",
        "plt.figure()\n",
        "plt.plot(Q,Acc,color='k',alpha=0.5)\n",
        "plt.xlabel(\"Number of Principal Components\")\n",
        "plt.ylabel(\"CCR\")\n",
        "plt.ylim([0,0.6])\n",
        "plt.grid()\n",
        "plt.show()"
      ],
      "execution_count": null,
      "outputs": [
        {
          "output_type": "display_data",
          "data": {
            "image/png": "[encoded data removed]",
            "text/plain": [
              "<Figure size 432x288 with 1 Axes>"
            ]
          },
          "metadata": {
            "tags": [],
            "needs_background": "light"
          }
        }
      ]
    },
    {
      "cell_type": "markdown",
      "metadata": {
        "id": "gI0sR2Ed_DvF"
      },
      "source": [
        "Se calcula la tasa de acierto para la matriz de test de entrada normalizada"
      ]
    },
    {
      "cell_type": "code",
      "metadata": {
        "colab": {
          "base_uri": "https://localhost:8080/"
        },
        "id": "pDf91hAZ-y36",
        "outputId": "be364a1b-d819-4299-c1c9-15ffaa6eb51a"
      },
      "source": [
        "print('Accuracy: ', accuracy_score(y_test,clf.predict(X_test_norm)))"
      ],
      "execution_count": null,
      "outputs": [
        {
          "output_type": "stream",
          "text": [
            "Accuracy:  0.11666666666666667\n"
          ],
          "name": "stdout"
        }
      ]
    },
    {
      "cell_type": "markdown",
      "metadata": {
        "id": "VyYz9OjO7Pv0"
      },
      "source": [
        "## Se entrena el regresor logístico"
      ]
    },
    {
      "cell_type": "code",
      "metadata": {
        "colab": {
          "base_uri": "https://localhost:8080/",
          "height": 283
        },
        "id": "4f_w7hEq6ruc",
        "outputId": "baae497b-c8e5-4ba8-d24b-6ed74d89e8ed"
      },
      "source": [
        "from sklearn.linear_model import LogisticRegression\n",
        "\n",
        "Acc=[]\n",
        "for i in range(len(pca_train)): \n",
        "  # Se crea el modelo (ej. clasificador)\n",
        "  model = LogisticRegression(solver='newton-cg')\n",
        "  # Se entrena el modelo\n",
        "  model.fit(pca_train[i],y_train)\n",
        "  # Se realiza una predicción\n",
        "  Acc.append(accuracy_score(y_test,model.predict(pca_test[i])))\n",
        "\n",
        "plt.figure()\n",
        "plt.plot(Q,Acc,color='k',alpha=0.5)\n",
        "plt.xlabel(\"Number of Principal Components\")\n",
        "plt.ylabel(\"CCR\")\n",
        "plt.ylim([0,0.6])\n",
        "plt.grid()\n",
        "plt.show()\n"
      ],
      "execution_count": null,
      "outputs": [
        {
          "output_type": "display_data",
          "data": {
            "image/png": "[encoded data removed]",
            "text/plain": [
              "<Figure size 432x288 with 1 Axes>"
            ]
          },
          "metadata": {
            "tags": [],
            "needs_background": "light"
          }
        }
      ]
    },
    {
      "cell_type": "markdown",
      "metadata": {
        "id": "_NDKAHUE_QMa"
      },
      "source": [
        "Se calcula la tasa de acierto para la matriz de test de entrada normalizada"
      ]
    },
    {
      "cell_type": "code",
      "metadata": {
        "colab": {
          "base_uri": "https://localhost:8080/"
        },
        "id": "hWDhzKb27qzK",
        "outputId": "8b94dd6e-e1e8-4936-e499-1384b05f01a7"
      },
      "source": [
        "print('Accuracy: ', accuracy_score(y_test,model.predict(X_test_norm)))"
      ],
      "execution_count": null,
      "outputs": [
        {
          "output_type": "stream",
          "text": [
            "Accuracy:  0.2\n"
          ],
          "name": "stdout"
        }
      ]
    }
  ]
}